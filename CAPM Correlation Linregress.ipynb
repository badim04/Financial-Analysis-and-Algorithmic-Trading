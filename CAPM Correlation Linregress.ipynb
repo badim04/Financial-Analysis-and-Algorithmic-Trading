{
 "cells": [
  {
   "cell_type": "code",
   "execution_count": 21,
   "id": "29725951",
   "metadata": {},
   "outputs": [],
   "source": [
    "from scipy import stats"
   ]
  },
  {
   "cell_type": "code",
   "execution_count": 22,
   "id": "8f95b182",
   "metadata": {},
   "outputs": [
    {
     "name": "stdout",
     "output_type": "stream",
     "text": [
      "Help on function linregress in module scipy.stats._stats_mstats_common:\n",
      "\n",
      "linregress(x, y=None, alternative='two-sided')\n",
      "    Calculate a linear least-squares regression for two sets of measurements.\n",
      "    \n",
      "    Parameters\n",
      "    ----------\n",
      "    x, y : array_like\n",
      "        Two sets of measurements.  Both arrays should have the same length.  If\n",
      "        only `x` is given (and ``y=None``), then it must be a two-dimensional\n",
      "        array where one dimension has length 2.  The two sets of measurements\n",
      "        are then found by splitting the array along the length-2 dimension. In\n",
      "        the case where ``y=None`` and `x` is a 2x2 array, ``linregress(x)`` is\n",
      "        equivalent to ``linregress(x[0], x[1])``.\n",
      "    alternative : {'two-sided', 'less', 'greater'}, optional\n",
      "        Defines the alternative hypothesis. Default is 'two-sided'.\n",
      "        The following options are available:\n",
      "    \n",
      "        * 'two-sided': the slope of the regression line is nonzero\n",
      "        * 'less': the slope of the regression line is less than zero\n",
      "        * 'greater':  the slope of the regression line is greater than zero\n",
      "    \n",
      "        .. versionadded:: 1.7.0\n",
      "    \n",
      "    Returns\n",
      "    -------\n",
      "    result : ``LinregressResult`` instance\n",
      "        The return value is an object with the following attributes:\n",
      "    \n",
      "        slope : float\n",
      "            Slope of the regression line.\n",
      "        intercept : float\n",
      "            Intercept of the regression line.\n",
      "        rvalue : float\n",
      "            Correlation coefficient.\n",
      "        pvalue : float\n",
      "            The p-value for a hypothesis test whose null hypothesis is\n",
      "            that the slope is zero, using Wald Test with t-distribution of\n",
      "            the test statistic. See `alternative` above for alternative\n",
      "            hypotheses.\n",
      "        stderr : float\n",
      "            Standard error of the estimated slope (gradient), under the\n",
      "            assumption of residual normality.\n",
      "        intercept_stderr : float\n",
      "            Standard error of the estimated intercept, under the assumption\n",
      "            of residual normality.\n",
      "    \n",
      "    See Also\n",
      "    --------\n",
      "    scipy.optimize.curve_fit :\n",
      "        Use non-linear least squares to fit a function to data.\n",
      "    scipy.optimize.leastsq :\n",
      "        Minimize the sum of squares of a set of equations.\n",
      "    \n",
      "    Notes\n",
      "    -----\n",
      "    Missing values are considered pair-wise: if a value is missing in `x`,\n",
      "    the corresponding value in `y` is masked.\n",
      "    \n",
      "    For compatibility with older versions of SciPy, the return value acts\n",
      "    like a ``namedtuple`` of length 5, with fields ``slope``, ``intercept``,\n",
      "    ``rvalue``, ``pvalue`` and ``stderr``, so one can continue to write::\n",
      "    \n",
      "        slope, intercept, r, p, se = linregress(x, y)\n",
      "    \n",
      "    With that style, however, the standard error of the intercept is not\n",
      "    available.  To have access to all the computed values, including the\n",
      "    standard error of the intercept, use the return value as an object\n",
      "    with attributes, e.g.::\n",
      "    \n",
      "        result = linregress(x, y)\n",
      "        print(result.intercept, result.intercept_stderr)\n",
      "    \n",
      "    Examples\n",
      "    --------\n",
      "    >>> import matplotlib.pyplot as plt\n",
      "    >>> from scipy import stats\n",
      "    >>> rng = np.random.default_rng()\n",
      "    \n",
      "    Generate some data:\n",
      "    \n",
      "    >>> x = rng.random(10)\n",
      "    >>> y = 1.6*x + rng.random(10)\n",
      "    \n",
      "    Perform the linear regression:\n",
      "    \n",
      "    >>> res = stats.linregress(x, y)\n",
      "    \n",
      "    Coefficient of determination (R-squared):\n",
      "    \n",
      "    >>> print(f\"R-squared: {res.rvalue**2:.6f}\")\n",
      "    R-squared: 0.717533\n",
      "    \n",
      "    Plot the data along with the fitted line:\n",
      "    \n",
      "    >>> plt.plot(x, y, 'o', label='original data')\n",
      "    >>> plt.plot(x, res.intercept + res.slope*x, 'r', label='fitted line')\n",
      "    >>> plt.legend()\n",
      "    >>> plt.show()\n",
      "    \n",
      "    Calculate 95% confidence interval on slope and intercept:\n",
      "    \n",
      "    >>> # Two-sided inverse Students t-distribution\n",
      "    >>> # p - probability, df - degrees of freedom\n",
      "    >>> from scipy.stats import t\n",
      "    >>> tinv = lambda p, df: abs(t.ppf(p/2, df))\n",
      "    \n",
      "    >>> ts = tinv(0.05, len(x)-2)\n",
      "    >>> print(f\"slope (95%): {res.slope:.6f} +/- {ts*res.stderr:.6f}\")\n",
      "    slope (95%): 1.453392 +/- 0.743465\n",
      "    >>> print(f\"intercept (95%): {res.intercept:.6f}\"\n",
      "    ...       f\" +/- {ts*res.intercept_stderr:.6f}\")\n",
      "    intercept (95%): 0.616950 +/- 0.544475\n",
      "\n"
     ]
    }
   ],
   "source": [
    "help(stats.linregress) #stats of linear regression"
   ]
  },
  {
   "cell_type": "code",
   "execution_count": 23,
   "id": "ba4f173c",
   "metadata": {},
   "outputs": [],
   "source": [
    "import pandas as pd"
   ]
  },
  {
   "cell_type": "code",
   "execution_count": 24,
   "id": "5647708f",
   "metadata": {},
   "outputs": [],
   "source": [
    "import pandas_datareader as web"
   ]
  },
  {
   "cell_type": "code",
   "execution_count": 25,
   "id": "ea81918f",
   "metadata": {},
   "outputs": [],
   "source": [
    "spy_etf = web.DataReader('SPY','yahoo')# This will give us an index, basically the market\n",
    "#spy is the etf indicator of this market, indices SP500\n",
    "# Yahoo is the source, google didnt work"
   ]
  },
  {
   "cell_type": "code",
   "execution_count": 26,
   "id": "1af1c1d0",
   "metadata": {},
   "outputs": [
    {
     "name": "stdout",
     "output_type": "stream",
     "text": [
      "<class 'pandas.core.frame.DataFrame'>\n",
      "DatetimeIndex: 1259 entries, 2017-02-06 to 2022-02-03\n",
      "Data columns (total 6 columns):\n",
      " #   Column     Non-Null Count  Dtype  \n",
      "---  ------     --------------  -----  \n",
      " 0   High       1259 non-null   float64\n",
      " 1   Low        1259 non-null   float64\n",
      " 2   Open       1259 non-null   float64\n",
      " 3   Close      1259 non-null   float64\n",
      " 4   Volume     1259 non-null   float64\n",
      " 5   Adj Close  1259 non-null   float64\n",
      "dtypes: float64(6)\n",
      "memory usage: 68.9 KB\n"
     ]
    }
   ],
   "source": [
    "spy_etf.info()"
   ]
  },
  {
   "cell_type": "code",
   "execution_count": 27,
   "id": "e51425b6",
   "metadata": {},
   "outputs": [
    {
     "data": {
      "text/html": [
       "<div>\n",
       "<style scoped>\n",
       "    .dataframe tbody tr th:only-of-type {\n",
       "        vertical-align: middle;\n",
       "    }\n",
       "\n",
       "    .dataframe tbody tr th {\n",
       "        vertical-align: top;\n",
       "    }\n",
       "\n",
       "    .dataframe thead th {\n",
       "        text-align: right;\n",
       "    }\n",
       "</style>\n",
       "<table border=\"1\" class=\"dataframe\">\n",
       "  <thead>\n",
       "    <tr style=\"text-align: right;\">\n",
       "      <th></th>\n",
       "      <th>High</th>\n",
       "      <th>Low</th>\n",
       "      <th>Open</th>\n",
       "      <th>Close</th>\n",
       "      <th>Volume</th>\n",
       "      <th>Adj Close</th>\n",
       "    </tr>\n",
       "    <tr>\n",
       "      <th>Date</th>\n",
       "      <th></th>\n",
       "      <th></th>\n",
       "      <th></th>\n",
       "      <th></th>\n",
       "      <th></th>\n",
       "      <th></th>\n",
       "    </tr>\n",
       "  </thead>\n",
       "  <tbody>\n",
       "    <tr>\n",
       "      <th>2017-02-06</th>\n",
       "      <td>229.330002</td>\n",
       "      <td>228.539993</td>\n",
       "      <td>228.869995</td>\n",
       "      <td>228.929993</td>\n",
       "      <td>57790100.0</td>\n",
       "      <td>209.524765</td>\n",
       "    </tr>\n",
       "    <tr>\n",
       "      <th>2017-02-07</th>\n",
       "      <td>229.660004</td>\n",
       "      <td>228.720001</td>\n",
       "      <td>229.380005</td>\n",
       "      <td>228.940002</td>\n",
       "      <td>57931200.0</td>\n",
       "      <td>209.533905</td>\n",
       "    </tr>\n",
       "    <tr>\n",
       "      <th>2017-02-08</th>\n",
       "      <td>229.389999</td>\n",
       "      <td>228.309998</td>\n",
       "      <td>228.940002</td>\n",
       "      <td>229.240005</td>\n",
       "      <td>51566200.0</td>\n",
       "      <td>209.808487</td>\n",
       "    </tr>\n",
       "    <tr>\n",
       "      <th>2017-02-09</th>\n",
       "      <td>230.949997</td>\n",
       "      <td>229.240005</td>\n",
       "      <td>229.240005</td>\n",
       "      <td>230.600006</td>\n",
       "      <td>65955200.0</td>\n",
       "      <td>211.053177</td>\n",
       "    </tr>\n",
       "    <tr>\n",
       "      <th>2017-02-10</th>\n",
       "      <td>231.770004</td>\n",
       "      <td>230.619995</td>\n",
       "      <td>231.000000</td>\n",
       "      <td>231.509995</td>\n",
       "      <td>66015900.0</td>\n",
       "      <td>211.886032</td>\n",
       "    </tr>\n",
       "  </tbody>\n",
       "</table>\n",
       "</div>"
      ],
      "text/plain": [
       "                  High         Low        Open       Close      Volume  \\\n",
       "Date                                                                     \n",
       "2017-02-06  229.330002  228.539993  228.869995  228.929993  57790100.0   \n",
       "2017-02-07  229.660004  228.720001  229.380005  228.940002  57931200.0   \n",
       "2017-02-08  229.389999  228.309998  228.940002  229.240005  51566200.0   \n",
       "2017-02-09  230.949997  229.240005  229.240005  230.600006  65955200.0   \n",
       "2017-02-10  231.770004  230.619995  231.000000  231.509995  66015900.0   \n",
       "\n",
       "             Adj Close  \n",
       "Date                    \n",
       "2017-02-06  209.524765  \n",
       "2017-02-07  209.533905  \n",
       "2017-02-08  209.808487  \n",
       "2017-02-09  211.053177  \n",
       "2017-02-10  211.886032  "
      ]
     },
     "execution_count": 27,
     "metadata": {},
     "output_type": "execute_result"
    }
   ],
   "source": [
    "spy_etf.head()"
   ]
  },
  {
   "cell_type": "code",
   "execution_count": 28,
   "id": "ce375ebe",
   "metadata": {},
   "outputs": [
    {
     "data": {
      "text/html": [
       "<div>\n",
       "<style scoped>\n",
       "    .dataframe tbody tr th:only-of-type {\n",
       "        vertical-align: middle;\n",
       "    }\n",
       "\n",
       "    .dataframe tbody tr th {\n",
       "        vertical-align: top;\n",
       "    }\n",
       "\n",
       "    .dataframe thead th {\n",
       "        text-align: right;\n",
       "    }\n",
       "</style>\n",
       "<table border=\"1\" class=\"dataframe\">\n",
       "  <thead>\n",
       "    <tr style=\"text-align: right;\">\n",
       "      <th></th>\n",
       "      <th>High</th>\n",
       "      <th>Low</th>\n",
       "      <th>Open</th>\n",
       "      <th>Close</th>\n",
       "      <th>Volume</th>\n",
       "      <th>Adj Close</th>\n",
       "    </tr>\n",
       "    <tr>\n",
       "      <th>Date</th>\n",
       "      <th></th>\n",
       "      <th></th>\n",
       "      <th></th>\n",
       "      <th></th>\n",
       "      <th></th>\n",
       "      <th></th>\n",
       "    </tr>\n",
       "  </thead>\n",
       "  <tbody>\n",
       "    <tr>\n",
       "      <th>2022-01-28</th>\n",
       "      <td>442.000000</td>\n",
       "      <td>427.820007</td>\n",
       "      <td>432.679993</td>\n",
       "      <td>441.950012</td>\n",
       "      <td>164457400.0</td>\n",
       "      <td>441.950012</td>\n",
       "    </tr>\n",
       "    <tr>\n",
       "      <th>2022-01-31</th>\n",
       "      <td>450.279999</td>\n",
       "      <td>439.809998</td>\n",
       "      <td>441.239990</td>\n",
       "      <td>449.910004</td>\n",
       "      <td>152251400.0</td>\n",
       "      <td>449.910004</td>\n",
       "    </tr>\n",
       "    <tr>\n",
       "      <th>2022-02-01</th>\n",
       "      <td>453.630005</td>\n",
       "      <td>446.940002</td>\n",
       "      <td>450.679993</td>\n",
       "      <td>452.950012</td>\n",
       "      <td>123155400.0</td>\n",
       "      <td>452.950012</td>\n",
       "    </tr>\n",
       "    <tr>\n",
       "      <th>2022-02-02</th>\n",
       "      <td>458.119995</td>\n",
       "      <td>453.049988</td>\n",
       "      <td>455.500000</td>\n",
       "      <td>457.350006</td>\n",
       "      <td>117064100.0</td>\n",
       "      <td>457.350006</td>\n",
       "    </tr>\n",
       "    <tr>\n",
       "      <th>2022-02-03</th>\n",
       "      <td>452.970001</td>\n",
       "      <td>449.149994</td>\n",
       "      <td>450.950012</td>\n",
       "      <td>450.529999</td>\n",
       "      <td>48705879.0</td>\n",
       "      <td>450.529999</td>\n",
       "    </tr>\n",
       "  </tbody>\n",
       "</table>\n",
       "</div>"
      ],
      "text/plain": [
       "                  High         Low        Open       Close       Volume  \\\n",
       "Date                                                                      \n",
       "2022-01-28  442.000000  427.820007  432.679993  441.950012  164457400.0   \n",
       "2022-01-31  450.279999  439.809998  441.239990  449.910004  152251400.0   \n",
       "2022-02-01  453.630005  446.940002  450.679993  452.950012  123155400.0   \n",
       "2022-02-02  458.119995  453.049988  455.500000  457.350006  117064100.0   \n",
       "2022-02-03  452.970001  449.149994  450.950012  450.529999   48705879.0   \n",
       "\n",
       "             Adj Close  \n",
       "Date                    \n",
       "2022-01-28  441.950012  \n",
       "2022-01-31  449.910004  \n",
       "2022-02-01  452.950012  \n",
       "2022-02-02  457.350006  \n",
       "2022-02-03  450.529999  "
      ]
     },
     "execution_count": 28,
     "metadata": {},
     "output_type": "execute_result"
    }
   ],
   "source": [
    "spy_etf.tail()"
   ]
  },
  {
   "cell_type": "code",
   "execution_count": 29,
   "id": "77533e51",
   "metadata": {},
   "outputs": [],
   "source": [
    "start = pd.to_datetime('2017-02-06')\n",
    "end = pd.to_datetime('2022-02-03')"
   ]
  },
  {
   "cell_type": "code",
   "execution_count": 30,
   "id": "fc136704",
   "metadata": {},
   "outputs": [],
   "source": [
    "goog = web.DataReader('GOOG','yahoo',start,end)#Grab google stocks using yahoo api then start n end dates\n",
    "aapl = web.DataReader('AAPL','yahoo',start,end)\n",
    "tsla = web.DataReader('TSLA','yahoo',start,end)"
   ]
  },
  {
   "cell_type": "code",
   "execution_count": 31,
   "id": "e872653a",
   "metadata": {},
   "outputs": [
    {
     "data": {
      "text/html": [
       "<div>\n",
       "<style scoped>\n",
       "    .dataframe tbody tr th:only-of-type {\n",
       "        vertical-align: middle;\n",
       "    }\n",
       "\n",
       "    .dataframe tbody tr th {\n",
       "        vertical-align: top;\n",
       "    }\n",
       "\n",
       "    .dataframe thead th {\n",
       "        text-align: right;\n",
       "    }\n",
       "</style>\n",
       "<table border=\"1\" class=\"dataframe\">\n",
       "  <thead>\n",
       "    <tr style=\"text-align: right;\">\n",
       "      <th></th>\n",
       "      <th>High</th>\n",
       "      <th>Low</th>\n",
       "      <th>Open</th>\n",
       "      <th>Close</th>\n",
       "      <th>Volume</th>\n",
       "      <th>Adj Close</th>\n",
       "    </tr>\n",
       "    <tr>\n",
       "      <th>Date</th>\n",
       "      <th></th>\n",
       "      <th></th>\n",
       "      <th></th>\n",
       "      <th></th>\n",
       "      <th></th>\n",
       "      <th></th>\n",
       "    </tr>\n",
       "  </thead>\n",
       "  <tbody>\n",
       "    <tr>\n",
       "      <th>2017-02-06</th>\n",
       "      <td>801.669983</td>\n",
       "      <td>795.250000</td>\n",
       "      <td>799.700012</td>\n",
       "      <td>801.340027</td>\n",
       "      <td>1184500</td>\n",
       "      <td>801.340027</td>\n",
       "    </tr>\n",
       "    <tr>\n",
       "      <th>2017-02-07</th>\n",
       "      <td>810.500000</td>\n",
       "      <td>801.780029</td>\n",
       "      <td>803.989990</td>\n",
       "      <td>806.969971</td>\n",
       "      <td>1241200</td>\n",
       "      <td>806.969971</td>\n",
       "    </tr>\n",
       "    <tr>\n",
       "      <th>2017-02-08</th>\n",
       "      <td>811.840027</td>\n",
       "      <td>803.190002</td>\n",
       "      <td>807.000000</td>\n",
       "      <td>808.380005</td>\n",
       "      <td>1155300</td>\n",
       "      <td>808.380005</td>\n",
       "    </tr>\n",
       "    <tr>\n",
       "      <th>2017-02-09</th>\n",
       "      <td>810.659973</td>\n",
       "      <td>804.539978</td>\n",
       "      <td>809.510010</td>\n",
       "      <td>809.559998</td>\n",
       "      <td>989700</td>\n",
       "      <td>809.559998</td>\n",
       "    </tr>\n",
       "    <tr>\n",
       "      <th>2017-02-10</th>\n",
       "      <td>815.250000</td>\n",
       "      <td>809.780029</td>\n",
       "      <td>811.700012</td>\n",
       "      <td>813.669983</td>\n",
       "      <td>1135000</td>\n",
       "      <td>813.669983</td>\n",
       "    </tr>\n",
       "  </tbody>\n",
       "</table>\n",
       "</div>"
      ],
      "text/plain": [
       "                  High         Low        Open       Close   Volume  \\\n",
       "Date                                                                  \n",
       "2017-02-06  801.669983  795.250000  799.700012  801.340027  1184500   \n",
       "2017-02-07  810.500000  801.780029  803.989990  806.969971  1241200   \n",
       "2017-02-08  811.840027  803.190002  807.000000  808.380005  1155300   \n",
       "2017-02-09  810.659973  804.539978  809.510010  809.559998   989700   \n",
       "2017-02-10  815.250000  809.780029  811.700012  813.669983  1135000   \n",
       "\n",
       "             Adj Close  \n",
       "Date                    \n",
       "2017-02-06  801.340027  \n",
       "2017-02-07  806.969971  \n",
       "2017-02-08  808.380005  \n",
       "2017-02-09  809.559998  \n",
       "2017-02-10  813.669983  "
      ]
     },
     "execution_count": 31,
     "metadata": {},
     "output_type": "execute_result"
    }
   ],
   "source": [
    "#CAPM says that there should be some relationship btw google stock performance(goog) and the overall market performance(spy_etf)\n",
    "goog.head()"
   ]
  },
  {
   "cell_type": "code",
   "execution_count": 32,
   "id": "662f9cb5",
   "metadata": {},
   "outputs": [],
   "source": [
    "import matplotlib.pyplot as plt\n",
    "%matplotlib inline"
   ]
  },
  {
   "cell_type": "code",
   "execution_count": 33,
   "id": "3ee4c989",
   "metadata": {},
   "outputs": [
    {
     "data": {
      "text/plain": [
       "<matplotlib.legend.Legend at 0x2869b666d00>"
      ]
     },
     "execution_count": 33,
     "metadata": {},
     "output_type": "execute_result"
    },
    {
     "data": {
      "image/png": "[encoded data removed]",
      "text/plain": [
       "<Figure size 720x576 with 1 Axes>"
      ]
     },
     "metadata": {
      "needs_background": "light"
     },
     "output_type": "display_data"
    }
   ],
   "source": [
    "goog['Adj Close'].plot(label='GOOG',figsize=(10,8))\n",
    "aapl['Adj Close'].plot(label='AAPL')\n",
    "tsla['Adj Close'].plot(label='TSLA')\n",
    "spy_etf['Adj Close'].plot(label='SPY Index Market')# One figsize is okay\n",
    "plt.legend()"
   ]
  },
  {
   "cell_type": "code",
   "execution_count": 34,
   "id": "bd57ff0a",
   "metadata": {},
   "outputs": [],
   "source": [
    "#CAPM wants to know the alpha n beta values, so it compares them(probably 2 sha spy n one other)\n",
    "aapl['Cumulative'] = aapl['Adj Close']/aapl['Adj Close'].iloc[0]\n",
    "spy_etf['Cumulative'] = spy_etf['Adj Close']/spy_etf['Adj Close'].iloc[0]\n",
    "goog['Cumulative'] = goog['Adj Close']/goog['Adj Close'].iloc[0]\n",
    "tsla['Cumulative'] = tsla['Adj Close']/tsla['Adj Close'].iloc[0]\n",
    "\n",
    "#This says apple close divided by appl close on first day"
   ]
  },
  {
   "cell_type": "code",
   "execution_count": 35,
   "id": "2897338d",
   "metadata": {},
   "outputs": [
    {
     "data": {
      "text/plain": [
       "<matplotlib.legend.Legend at 0x2869b6e3610>"
      ]
     },
     "execution_count": 35,
     "metadata": {},
     "output_type": "execute_result"
    },
    {
     "data": {
      "image/png": "[encoded data removed]",
      "text/plain": [
       "<Figure size 720x576 with 1 Axes>"
      ]
     },
     "metadata": {
      "needs_background": "light"
     },
     "output_type": "display_data"
    }
   ],
   "source": [
    "aapl['Cumulative'].plot(label='AAPL',figsize=(10,8))\n",
    "spy_etf['Cumulative'].plot(label='SPY')\n",
    "goog['Cumulative'].plot(label='GOOG')\n",
    "tsla['Cumulative'].plot(label='TSLA')\n",
    "\n",
    "plt.legend()\n",
    "#This shows how much you'd get if you invested $1 on the first day for all of them each n their current value now"
   ]
  },
  {
   "cell_type": "code",
   "execution_count": 36,
   "id": "1bc0fce6",
   "metadata": {},
   "outputs": [],
   "source": [
    "aapl['Daily Returns'] = aapl['Adj Close'].pct_change(1)\n",
    "spy_etf['Daily Returns'] = spy_etf['Adj Close'].pct_change(1)\n",
    "goog['Daily Returns'] = goog['Adj Close'].pct_change(1)\n",
    "tsla['Daily Returns'] = tsla['Adj Close'].pct_change(1)\n",
    "\n",
    "#This is calculating the daily returns"
   ]
  },
  {
   "cell_type": "code",
   "execution_count": 41,
   "id": "8e2a514c",
   "metadata": {},
   "outputs": [
    {
     "data": {
      "text/plain": [
       "<matplotlib.collections.PathCollection at 0x2869be64fd0>"
      ]
     },
     "execution_count": 41,
     "metadata": {},
     "output_type": "execute_result"
    },
    {
     "data": {
      "image/png": "[encoded data removed]",
      "text/plain": [
       "<Figure size 432x288 with 1 Axes>"
      ]
     },
     "metadata": {
      "needs_background": "light"
     },
     "output_type": "display_data"
    }
   ],
   "source": [
    "#plt.scatter(aapl['Daily Returns'],spy_etf['Daily Returns'],goog['Daily Returns'],tsla['Daily Returns'],alpha=0.95)\n",
    "plt.scatter(spy_etf['Daily Returns'],tsla['Daily Returns'],alpha=0.25)\n",
    "\n",
    "#This is to get the correlation of this, perfect correlation would give a some sort of linear\n",
    "#Alpha is 0.25 cuz there would be a ton of points, correlation points"
   ]
  },
  {
   "cell_type": "code",
   "execution_count": 42,
   "id": "343111bd",
   "metadata": {},
   "outputs": [],
   "source": [
    "#the beta value is actually some sort of correlation, using linear regression since its the perfect correlation\n",
    "beta,alpha,r_value,p_value,std_err = stats.linregress(tsla['Daily Returns'].iloc[1:],spy_etf['Daily Returns'].iloc[1:])\n",
    "#From the CAPM formula, its just alpha n beta values that we are interested in"
   ]
  },
  {
   "cell_type": "code",
   "execution_count": 43,
   "id": "0999c11a",
   "metadata": {},
   "outputs": [
    {
     "data": {
      "text/plain": [
       "0.132386098305339"
      ]
     },
     "execution_count": 43,
     "metadata": {},
     "output_type": "execute_result"
    }
   ],
   "source": [
    "#If the correlation is very close then the scatter plot would be a straight diagonal line shape and the beta value would be high,close to 1.0(perfect)\n",
    "beta"
   ]
  },
  {
   "cell_type": "code",
   "execution_count": 44,
   "id": "5c9da378",
   "metadata": {},
   "outputs": [
    {
     "data": {
      "text/plain": [
       "0.0002797399250216751"
      ]
     },
     "execution_count": 44,
     "metadata": {},
     "output_type": "execute_result"
    }
   ],
   "source": [
    "alpha #Alpha would be extremely small"
   ]
  },
  {
   "cell_type": "code",
   "execution_count": 45,
   "id": "23c80657",
   "metadata": {},
   "outputs": [
    {
     "data": {
      "text/plain": [
       "0.42698411687815535"
      ]
     },
     "execution_count": 45,
     "metadata": {},
     "output_type": "execute_result"
    }
   ],
   "source": [
    "r_value # Value of 0.4, not a very good fit"
   ]
  },
  {
   "cell_type": "code",
   "execution_count": null,
   "id": "267fddcd",
   "metadata": {},
   "outputs": [],
   "source": []
  }
 ],
 "metadata": {
  "kernelspec": {
   "display_name": "Python 3 (ipykernel)",
   "language": "python",
   "name": "python3"
  },
  "language_info": {
   "codemirror_mode": {
    "name": "ipython",
    "version": 3
   },
   "file_extension": ".py",
   "mimetype": "text/x-python",
   "name": "python",
   "nbconvert_exporter": "python",
   "pygments_lexer": "ipython3",
   "version": "3.9.7"
  }
 },
 "nbformat": 4,
 "nbformat_minor": 5
}
